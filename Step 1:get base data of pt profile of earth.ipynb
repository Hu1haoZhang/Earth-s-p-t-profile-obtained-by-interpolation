{
 "cells": [
  {
   "cell_type": "code",
   "execution_count": 7,
   "id": "37c55d55",
   "metadata": {},
   "outputs": [],
   "source": [
    "import numpy as np\n",
    "from scipy.integrate import odeint, solve_ivp\n",
    "import matplotlib.pyplot as plt\n",
    "from matplotlib import animation\n",
    "from IPython.display import HTML\n",
    "import matplotlib\n",
    "import pandas as pd\n",
    "import sys, math"
   ]
  },
  {
   "cell_type": "code",
   "execution_count": 59,
   "id": "6d387261",
   "metadata": {},
   "outputs": [],
   "source": [
    "def Atmosphere(alt):\n",
    "    \"\"\" Compute temperature, density, and pressure in standard atmosphere.\n",
    "    Correct to 86 km.  Only approximate thereafter.\n",
    "    Input:\n",
    "    alt geometric altitude, km.\n",
    "    Return: (sigma, delta, theta)\n",
    "    sigma   density/sea-level standard density\n",
    "    delta   pressure/sea-level standard pressure\n",
    "    theta   temperature/sea-level std. temperature\n",
    "    \"\"\"\n",
    "\n",
    "    REARTH = 6356.766   # polar radius of the Earth (km)\n",
    "    GMR = 34.163195     # hydrostatic constant (K/km)\n",
    "    NTAB = 8            # length of tables\n",
    "\n",
    "    htab = [ 0.0,  11.0, 20.0, 32.0, 47.0,\n",
    "    51.0, 71.0, 84.852 ]\n",
    "    ttab = [ 288.15, 216.65, 216.65, 228.65, 270.65,\n",
    "    270.65, 214.65, 186.946 ]\n",
    "    ptab = [ 1.0, 2.2336110E-1, 5.4032950E-2, 8.5666784E-3, 1.0945601E-3,\n",
    "    6.6063531E-4, 3.9046834E-5, 3.68501E-6 ]\n",
    "    gtab = [ -6.5, 0.0, 1.0, 2.8, 0, -2.8, -2.0, 0.0 ]\n",
    "\n",
    "    h = alt*REARTH/(alt+REARTH) # geometric to geopotential altitude\n",
    "\n",
    "    i=0; j=len(htab)-1\n",
    "    while (j > i+1):\n",
    "        k = (i+j)//2      # this is floor division in Python 3\n",
    "        if h < htab[k]:\n",
    "            j = k\n",
    "        else:\n",
    "            i = k\n",
    "    tgrad = gtab[i]     # temp. gradient of local layer\n",
    "    tbase = ttab[i]     # base  temp. of local layer\n",
    "    deltah=h-htab[i]        # height above local base\n",
    "    tlocal=tbase+tgrad*deltah   # local temperature\n",
    "    theta = tlocal/ttab[0]  # temperature ratio\n",
    "\n",
    "    if 0.0 == tgrad:\n",
    "        delta=ptab[i]*math.exp(-GMR*deltah/tbase)\n",
    "    else:\n",
    "        delta=ptab[i]*math.pow(tbase/tlocal, GMR/tgrad)\n",
    "    sigma = delta/theta\n",
    "    return ( delta )"
   ]
  },
  {
   "cell_type": "code",
   "execution_count": 60,
   "id": "89bb1762",
   "metadata": {},
   "outputs": [],
   "source": [
    "al = np.linspace(0,86,10000)\n",
    "z = [Atmosphere(i) for i in al]"
   ]
  },
  {
   "cell_type": "code",
   "execution_count": 63,
   "id": "d571f429",
   "metadata": {},
   "outputs": [],
   "source": [
    "p_earth = np.array(z)"
   ]
  },
  {
   "cell_type": "code",
   "execution_count": 64,
   "id": "7ca531b5",
   "metadata": {},
   "outputs": [
    {
     "data": {
      "text/plain": [
       "array([1.00000000e+00, 9.98980700e-01, 9.97962245e-01, ...,\n",
       "       3.69627147e-06, 3.69062097e-06, 3.68497861e-06])"
      ]
     },
     "execution_count": 64,
     "metadata": {},
     "output_type": "execute_result"
    }
   ],
   "source": [
    "p_earth"
   ]
  },
  {
   "cell_type": "code",
   "execution_count": 65,
   "id": "6fdd6ccd",
   "metadata": {},
   "outputs": [],
   "source": [
    "def Atmosphere2(alt):\n",
    "    \"\"\" Compute temperature, density, and pressure in standard atmosphere.\n",
    "    Correct to 86 km.  Only approximate thereafter.\n",
    "    Input:\n",
    "    alt geometric altitude, km.\n",
    "    Return: (sigma, delta, theta)\n",
    "    sigma   density/sea-level standard density\n",
    "    delta   pressure/sea-level standard pressure\n",
    "    theta   temperature/sea-level std. temperature\n",
    "    \"\"\"\n",
    "\n",
    "    REARTH = 6356.766   # polar radius of the Earth (km)\n",
    "    GMR = 34.163195     # hydrostatic constant (K/km)\n",
    "    NTAB = 8            # length of tables\n",
    "\n",
    "    htab = [ 0.0,  11.0, 20.0, 32.0, 47.0,\n",
    "    51.0, 71.0, 84.852 ]\n",
    "    ttab = [ 288.15, 216.65, 216.65, 228.65, 270.65,\n",
    "    270.65, 214.65, 186.946 ]\n",
    "    ptab = [ 1.0, 2.2336110E-1, 5.4032950E-2, 8.5666784E-3, 1.0945601E-3,\n",
    "    6.6063531E-4, 3.9046834E-5, 3.68501E-6 ]\n",
    "    gtab = [ -6.5, 0.0, 1.0, 2.8, 0, -2.8, -2.0, 0.0 ]\n",
    "\n",
    "    h = alt*REARTH/(alt+REARTH) # geometric to geopotential altitude\n",
    "\n",
    "    i=0; j=len(htab)-1\n",
    "    while (j > i+1):\n",
    "        k = (i+j)//2      # this is floor division in Python 3\n",
    "        if h < htab[k]:\n",
    "            j = k\n",
    "        else:\n",
    "            i = k\n",
    "    tgrad = gtab[i]     # temp. gradient of local layer\n",
    "    tbase = ttab[i]     # base  temp. of local layer\n",
    "    deltah=h-htab[i]        # height above local base\n",
    "    tlocal=tbase+tgrad*deltah   # local temperature\n",
    "    theta = tlocal/ttab[0]  # temperature ratio\n",
    "\n",
    "    if 0.0 == tgrad:\n",
    "        delta=ptab[i]*math.exp(-GMR*deltah/tbase)\n",
    "    else:\n",
    "        delta=ptab[i]*math.pow(tbase/tlocal, GMR/tgrad)\n",
    "    sigma = delta/theta\n",
    "    return ( theta )"
   ]
  },
  {
   "cell_type": "code",
   "execution_count": 66,
   "id": "563d022a",
   "metadata": {},
   "outputs": [],
   "source": [
    "z_2 = [Atmosphere2(i) for i in al]\n",
    "t_earth = np.array(z_2)"
   ]
  },
  {
   "cell_type": "code",
   "execution_count": 76,
   "id": "89295f06",
   "metadata": {},
   "outputs": [],
   "source": [
    "t_earth_T = t_earth.reshape(-1,1)\n",
    "p_earth_T = p_earth.reshape(-1,1)"
   ]
  },
  {
   "cell_type": "code",
   "execution_count": 79,
   "id": "e5e49c33",
   "metadata": {},
   "outputs": [
    {
     "data": {
      "text/plain": [
       "array([[1.00000000e+00],\n",
       "       [9.98980700e-01],\n",
       "       [9.97962245e-01],\n",
       "       ...,\n",
       "       [3.69627147e-06],\n",
       "       [3.69062097e-06],\n",
       "       [3.68497861e-06]])"
      ]
     },
     "execution_count": 79,
     "metadata": {},
     "output_type": "execute_result"
    }
   ],
   "source": [
    "p_earth_T"
   ]
  },
  {
   "cell_type": "code",
   "execution_count": 80,
   "id": "ebf4f2a2",
   "metadata": {},
   "outputs": [
    {
     "data": {
      "text/plain": [
       "array([[1.        ],\n",
       "       [0.99980598],\n",
       "       [0.99961197],\n",
       "       ...,\n",
       "       [0.64889606],\n",
       "       [0.64883795],\n",
       "       [0.64877983]])"
      ]
     },
     "execution_count": 80,
     "metadata": {},
     "output_type": "execute_result"
    }
   ],
   "source": [
    "t_earth_T"
   ]
  },
  {
   "cell_type": "markdown",
   "id": "410a6bbf",
   "metadata": {},
   "source": [
    "Unit Conversion"
   ]
  },
  {
   "cell_type": "code",
   "execution_count": 85,
   "id": "54ff4d0b",
   "metadata": {},
   "outputs": [],
   "source": [
    "earth_pt = np.concatenate((p_earth_T*(101325/100000), t_earth_T*288.15), axis=1)"
   ]
  },
  {
   "cell_type": "markdown",
   "id": "e6dff598",
   "metadata": {},
   "source": [
    "Pressure unit: bar\n",
    "\n",
    "Temperature unit: k"
   ]
  },
  {
   "cell_type": "code",
   "execution_count": 87,
   "id": "50c1e29b",
   "metadata": {},
   "outputs": [
    {
     "data": {
      "text/plain": [
       "array([[1.01325000e+00, 2.88150000e+02],\n",
       "       [1.01221719e+00, 2.88094094e+02],\n",
       "       [1.01118524e+00, 2.88038189e+02],\n",
       "       ...,\n",
       "       [3.74524707e-06, 1.86979400e+02],\n",
       "       [3.73952169e-06, 1.86962654e+02],\n",
       "       [3.73380458e-06, 1.86945908e+02]])"
      ]
     },
     "execution_count": 87,
     "metadata": {},
     "output_type": "execute_result"
    }
   ],
   "source": [
    "earth_pt"
   ]
  },
  {
   "cell_type": "code",
   "execution_count": 86,
   "id": "0807b570",
   "metadata": {},
   "outputs": [],
   "source": [
    "np.savetxt('earth p-t', earth_pt)"
   ]
  },
  {
   "cell_type": "code",
   "execution_count": null,
   "id": "b10f1861",
   "metadata": {},
   "outputs": [],
   "source": []
  }
 ],
 "metadata": {
  "kernelspec": {
   "display_name": "Python 3 (ipykernel)",
   "language": "python",
   "name": "python3"
  },
  "language_info": {
   "codemirror_mode": {
    "name": "ipython",
    "version": 3
   },
   "file_extension": ".py",
   "mimetype": "text/x-python",
   "name": "python",
   "nbconvert_exporter": "python",
   "pygments_lexer": "ipython3",
   "version": "3.9.12"
  }
 },
 "nbformat": 4,
 "nbformat_minor": 5
}
